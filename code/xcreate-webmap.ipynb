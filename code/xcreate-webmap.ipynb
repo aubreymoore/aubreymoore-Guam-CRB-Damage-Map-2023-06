{
 "cells": [
  {
   "cell_type": "markdown",
   "id": "eb22b1e5-b1c2-4a30-8c8a-d5e7e5991eec",
   "metadata": {},
   "source": [
    "# create-webmap.ipynb"
   ]
  },
  {
   "cell_type": "code",
   "execution_count": 1,
   "id": "6e058dc1-b6fb-4291-b43a-fc4a67ab75ef",
   "metadata": {},
   "outputs": [],
   "source": [
    "import zipfile\n",
    "import os\n",
    "import re"
   ]
  },
  {
   "cell_type": "code",
   "execution_count": 2,
   "id": "c6bd7493-3260-4556-a895-3aa00bf16677",
   "metadata": {},
   "outputs": [],
   "source": [
    "DB_PATH = '/home/aubrey/Desktop/Guam07map/output/results.db'\n",
    "QGIS_TEMPLATE_PATH = '/home/aubrey/Desktop/Guam07map/code/crb_map_template.qgz'\n",
    "QGIS_PROJECT_PATH = '/home/aubrey/Desktop/Guam07map/code/Guam07.qgs'\n",
    "QGIS_EXPORT_PATH = '/home/aubrey/Desktop/Guam07map/code/'"
   ]
  },
  {
   "cell_type": "code",
   "execution_count": 5,
   "id": "dbc3ec9c-a7fb-4555-b114-7445585c6f16",
   "metadata": {},
   "outputs": [],
   "source": [
    "def edit_qgis_template():\n",
    "    \"\"\"\n",
    "    \"\"\"\n",
    "\n",
    "    # Unzip the template file and unzip it\n",
    "    with zipfile.ZipFile(QGIS_TEMPLATE_PATH, 'r') as z:\n",
    "        z.extractall()\n",
    "    unzipped_file_path = QGIS_TEMPLATE_PATH.replace('.qgz', '.qgs')\n",
    "    os.rename(unzipped_file_path, QGIS_PROJECT_PATH)\n",
    "\n",
    "    # Read project file contents as a string\n",
    "    with open(QGIS_PROJECT_PATH,\"r\") as f:\n",
    "        s = f.read()\n",
    "\n",
    "    # Replace all occurrence of substring which provides location of the database\n",
    "    s = re.sub('../Guam06-CRB-Damage-Map/Guam06.db', DB_PATH, s)\n",
    "\n",
    "    # Replace all occurrences where Export folder is defined\n",
    "    s = re.sub('/home/aubrey/Desktop/Guam06-CRB-Damage-Map', QGIS_EXPORT_PATH, s)\n",
    "\n",
    "    # Overwrite the original file with the modified string\n",
    "    with open(QGIS_PROJECT_PATH,\"w\") as f:\n",
    "        f.write(s)          "
   ]
  },
  {
   "cell_type": "code",
   "execution_count": null,
   "id": "a36a725e-168d-4f24-ad92-320f3491f635",
   "metadata": {},
   "outputs": [],
   "source": []
  }
 ],
 "metadata": {
  "kernelspec": {
   "display_name": "Python 3 (ipykernel)",
   "language": "python",
   "name": "python3"
  },
  "language_info": {
   "codemirror_mode": {
    "name": "ipython",
    "version": 3
   },
   "file_extension": ".py",
   "mimetype": "text/x-python",
   "name": "python",
   "nbconvert_exporter": "python",
   "pygments_lexer": "ipython3",
   "version": "3.9.5"
  }
 },
 "nbformat": 4,
 "nbformat_minor": 5
}
