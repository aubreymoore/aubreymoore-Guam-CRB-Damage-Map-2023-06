{
 "cells": [
  {
   "cell_type": "markdown",
   "id": "ba19a02a-d487-48e6-a78b-3652733a1ede",
   "metadata": {},
   "source": [
    "# edit_qgis_qgs\n",
    "\n",
    "This code edits a QGIS project file directly to set file paths for a SpatialLite database and an export folder."
   ]
  },
  {
   "cell_type": "code",
   "execution_count": 1,
   "id": "491b104b-10f0-4bd8-a233-b68f150e794e",
   "metadata": {},
   "outputs": [],
   "source": [
    "import zipfile\n",
    "import os\n",
    "import re"
   ]
  },
  {
   "cell_type": "code",
   "execution_count": 2,
   "id": "ba738b0d-6c30-4d09-9ed4-037a89dc5409",
   "metadata": {},
   "outputs": [],
   "source": [
    "REPO_DIR = '/home/aubrey/Desktop/Guam-CRB-Damage-Map-2023-04'\n",
    "QGIS_TEMPLATE_PATH = 'crb_map_template.qgz'\n",
    "QGIS_PROJECT_PATH = 'Guam08.qgs'\n",
    "DB_PATH = 'results.db'"
   ]
  },
  {
   "cell_type": "code",
   "execution_count": 3,
   "id": "1da8771e-82d2-40a7-ad40-866ee7110de0",
   "metadata": {},
   "outputs": [],
   "source": [
    "# Unzip the template file and save it to QGIS_PROJECT_PATH\n",
    "with zipfile.ZipFile(QGIS_TEMPLATE_PATH, 'r') as z:\n",
    "    z.extractall()\n",
    "unzipped_file_path = QGIS_TEMPLATE_PATH.replace('.qgz', '.qgs')\n",
    "os.rename(unzipped_file_path, QGIS_PROJECT_PATH)"
   ]
  },
  {
   "cell_type": "code",
   "execution_count": 4,
   "id": "45f65bb7-0695-4d35-9c01-e12813a0e3b4",
   "metadata": {},
   "outputs": [],
   "source": [
    "# Read project file contents as a string\n",
    "with open(QGIS_PROJECT_PATH,\"r\") as f:\n",
    "    s = f.read()\n",
    "    \n",
    "# Replace all occurrence of substring which provides location of the database\n",
    "s = re.sub('../Guam06-CRB-Damage-Map/Guam06.db', f'{REPO_DIR}/output/{DB_PATH}', s)\n",
    "\n",
    "# Replace all occurrences where Export folder is defined\n",
    "s = re.sub('/home/aubrey/Desktop/Guam06-CRB-Damage-Map', f'{REPO_DIR}/code', s)\n",
    "          \n",
    "# Overwrite the original file with the modified string\n",
    "with open(QGIS_PROJECT_PATH,\"w\") as f:\n",
    "    f.write(s)          "
   ]
  },
  {
   "cell_type": "code",
   "execution_count": null,
   "id": "d961a0ac-d7ac-4f04-ae54-7a41cfc5fe56",
   "metadata": {},
   "outputs": [],
   "source": [
    "print('FINISHED')"
   ]
  }
 ],
 "metadata": {
  "kernelspec": {
   "display_name": "Python 3 (ipykernel)",
   "language": "python",
   "name": "python3"
  },
  "language_info": {
   "codemirror_mode": {
    "name": "ipython",
    "version": 3
   },
   "file_extension": ".py",
   "mimetype": "text/x-python",
   "name": "python",
   "nbconvert_exporter": "python",
   "pygments_lexer": "ipython3",
   "version": "3.9.5"
  }
 },
 "nbformat": 4,
 "nbformat_minor": 5
}
